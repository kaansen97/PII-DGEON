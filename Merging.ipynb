{
 "cells": [
  {
   "cell_type": "code",
   "execution_count": 2,
   "id": "6d8ce350-7bc0-47c7-9287-5e46aca81fd7",
   "metadata": {},
   "outputs": [],
   "source": [
    "import os\n",
    "import pandas as pd"
   ]
  },
  {
   "cell_type": "code",
   "execution_count": 3,
   "id": "5f21b704-e43e-46c9-9482-e97a7828853b",
   "metadata": {},
   "outputs": [],
   "source": [
    "MERGE_DIRECTORIES = [\n",
    "    'train',\n",
    "    'validation'\n",
    "]\n",
    "EXTENSIONS = {\n",
    "    '.json': {},\n",
    "    '.jsonl': {'lines':True}\n",
    "}"
   ]
  },
  {
   "cell_type": "code",
   "execution_count": 16,
   "id": "66e35628-751c-405b-811b-9e620ce30d5b",
   "metadata": {},
   "outputs": [],
   "source": [
    "ext = lambda f: os.path.splitext(f)[1]\n",
    "for dir in MERGE_DIRECTORIES:\n",
    "    files = os.listdir(dir)\n",
    "    files = [f for f in files if ext(f) in EXTENSIONS]\n",
    "    dfs = [pd.read_json(f'{dir}/{f}', **EXTENSIONS[ext(f)]) for f in files]\n",
    "    rows = sum([len(df) for df in dfs])\n",
    "    df: pd.DataFrame = pd.concat(dfs)\n",
    "    df.to_csv(f'{dir}.csv', index=False)"
   ]
  }
 ],
 "metadata": {
  "kernelspec": {
   "display_name": "Python 3",
   "language": "python",
   "name": "python3"
  },
  "language_info": {
   "codemirror_mode": {
    "name": "ipython",
    "version": 3
   },
   "file_extension": ".py",
   "mimetype": "text/x-python",
   "name": "python",
   "nbconvert_exporter": "python",
   "pygments_lexer": "ipython3",
   "version": "3.10.10"
  }
 },
 "nbformat": 4,
 "nbformat_minor": 5
}
